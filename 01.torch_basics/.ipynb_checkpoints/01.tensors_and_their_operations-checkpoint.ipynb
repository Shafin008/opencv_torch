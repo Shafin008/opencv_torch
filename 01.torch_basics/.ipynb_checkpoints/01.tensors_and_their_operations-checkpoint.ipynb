{
 "cells": [
  {
   "cell_type": "markdown",
   "id": "ed87de77-ca28-4531-9bfb-035c824b5502",
   "metadata": {},
   "source": [
    "## Data"
   ]
  },
  {
   "cell_type": "code",
   "execution_count": 1,
   "id": "b52c6fa2-f201-4302-8de2-221daebe4334",
   "metadata": {},
   "outputs": [],
   "source": [
    "# Download some digit images from MNIST dataset\n",
    "!wget -q \"https://learnopencv.com/wp-content/uploads/2024/07/mnist_0.jpg\" -O \"mnist_0.jpg\"\n",
    "!wget -q \"https://learnopencv.com/wp-content/uploads/2024/07/mnist_1.jpg\" -O \"mnist_1.jpg\""
   ]
  },
  {
   "cell_type": "code",
   "execution_count": 2,
   "id": "3ae4a500-ef14-489a-b664-f1d6ede4ba09",
   "metadata": {},
   "outputs": [],
   "source": [
    "import torch\n",
    "import matplotlib.pyplot as plt\n",
    "import numpy as np\n",
    "import cv2"
   ]
  },
  {
   "cell_type": "code",
   "execution_count": 3,
   "id": "5d11b1a7-830c-4eae-8059-5deff8b6dbe4",
   "metadata": {},
   "outputs": [
    {
     "name": "stdout",
     "output_type": "stream",
     "text": [
      "torch version : 2.5.1\n"
     ]
    }
   ],
   "source": [
    "print(\"torch version : {}\".format(torch.__version__))"
   ]
  },
  {
   "cell_type": "markdown",
   "id": "d3a94243-036e-4fa8-9eff-b1f11f0f1e8c",
   "metadata": {},
   "source": [
    "# 1. Converting Images to Batched tensors\n",
    "An image is made up of pixel arrays that represent the intensity of pixels in grayscale or the color values in RGB format. When working with deep learning models, it's often necessary to convert these images into tensors, which are the primary data structures used in PyTorch for handling and processing data.\n",
    "\n",
    "- Tensors: In PyTorch, tensors are multi-dimensional arrays similar to NumPy arrays, but with additional capabilities for GPU acceleration and automatic differentiation. Tensors are the fundamental building blocks for representing data and parameters in neural networks.\n",
    "\n",
    "- Batches: Batching is a technique where multiple data samples (images, in this case) are grouped together into a single tensor. This allows efficient processing of multiple samples simultaneously, to take advantage of the parallel processing capabilities of modern hardware.\n",
    "\n",
    "In the following block, we will see an example of converting two MNIST images into a single batched tensor of shape `[2,3,28,28]`"
   ]
  },
  {
   "cell_type": "code",
   "execution_count": 5,
   "id": "a1b10052-23a6-4386-bb6a-9bb6a94f4769",
   "metadata": {
    "scrolled": true
   },
   "outputs": [],
   "source": [
    "digit_0_array_og = cv2.imread(\"mnist_0.jpg\")\n",
    "digit_1_array_og = cv2.imread(\"mnist_1.jpg\")\n",
    "# digit_0_array_og"
   ]
  },
  {
   "cell_type": "code",
   "execution_count": 6,
   "id": "7a12381c-9664-43dc-84c8-66821fedba35",
   "metadata": {},
   "outputs": [],
   "source": [
    "digit_0_array_gray = cv2.imread(\"mnist_0.jpg\",cv2.IMREAD_GRAYSCALE)\n",
    "digit_1_array_gray = cv2.imread(\"mnist_1.jpg\",cv2.IMREAD_GRAYSCALE )"
   ]
  },
  {
   "cell_type": "markdown",
   "id": "0e692b82-d8b5-4a5c-a2bb-0e6bd7fb82aa",
   "metadata": {},
   "source": [
    "performs the following operations:\n",
    "\n",
    "1. `cv2.imread(\"mnist_0.jpg\", cv2.IMREAD_GRAYSCALE)`\n",
    "\n",
    "- Uses OpenCV's `cv2.imread()` function to read the image file named `\"mnist_0.jpg\"`.\n",
    "- The second argument, `cv2.IMREAD_GRAYSCALE`, tells OpenCV to load the image in - grayscale mode, meaning the image will be read as a single-channel (black & white) image instead of a color (RGB/BGR) image.\n",
    "\n",
    "2. `digit_0_array_gray` stores the grayscale image\n",
    "\n",
    "- The loaded image is stored as a NumPy array, where each pixel's intensity ranges from 0 (black) to 255 (white).\n",
    "  \n",
    "Example:\n",
    "If `\"mnist_0.jpg\"` is an image of the digit 0 from the MNIST dataset, `digit_0_array_gray` will be a 2D NumPy array representing the grayscale pixel values of that image."
   ]
  },
  {
   "cell_type": "code",
   "execution_count": 14,
   "id": "7fdb5f74-1ea6-40a7-96df-63fab00fcb73",
   "metadata": {},
   "outputs": [
    {
     "data": {
      "text/plain": [
       "(-0.5, 27.5, 27.5, -0.5)"
      ]
     },
     "execution_count": 14,
     "metadata": {},
     "output_type": "execute_result"
    },
    {
     "data": {
      "image/png": "[encoded data removed]",
      "text/plain": [
       "<Figure size 1000x500 with 2 Axes>"
      ]
     },
     "metadata": {},
     "output_type": "display_data"
    }
   ],
   "source": [
    "# visualizing the images\n",
    "fig,axs = plt.subplots(nrows=1,ncols=2,figsize=(10,5))\n",
    "# print(\"figure\",fig)\n",
    "# print(\"axes\", axs)\n",
    "\n",
    "axs[0].imshow(digit_0_array_og, cmap='gray', interpolation='none')\n",
    "axs[0].set_title(\"Digit 0 Image\")\n",
    "axs[0].axis(\"off\")\n",
    "\n",
    "axs[1].imshow(digit_1_array_og, cmap='gray', interpolation='none')\n",
    "axs[1].set_title(\"Digit 1 Image\")\n",
    "axs[1].axis(\"off\")"
   ]
  },
  {
   "cell_type": "code",
   "execution_count": 19,
   "id": "9bdc6099-185c-46ba-816a-12b907498728",
   "metadata": {},
   "outputs": [
    {
     "name": "stdout",
     "output_type": "stream",
     "text": [
      "Image array shape: (28, 28, 3)\n",
      "Min pixel value: 0\n",
      "Max pixel value: 255\n"
     ]
    }
   ],
   "source": [
    "# Numpy array with three channels\n",
    "print(f\"Image array shape: {digit_0_array_og.shape}\")\n",
    "min_pixel = np.min(digit_0_array_og)\n",
    "max_pixel = np.max(digit_0_array_og)\n",
    "print(f\"Min pixel value: {min_pixel}\")\n",
    "print(f\"Max pixel value: {max_pixel}\")"
   ]
  },
  {
   "cell_type": "code",
   "execution_count": 18,
   "id": "dec3e328-9db2-411a-bd99-3ceb72cfe7a1",
   "metadata": {},
   "outputs": [
    {
     "data": {
      "text/plain": [
       "<matplotlib.image.AxesImage at 0x149b0e510>"
      ]
     },
     "execution_count": 18,
     "metadata": {},
     "output_type": "execute_result"
    },
    {
     "data": {
      "image/png": "[encoded data removed]",
      "text/plain": [
       "<Figure size 640x480 with 1 Axes>"
      ]
     },
     "metadata": {},
     "output_type": "display_data"
    }
   ],
   "source": [
    "# We will have a look at 28x28 single channel image's pixel values\n",
    "plt.imshow(digit_0_array_gray, cmap=\"gray\")"
   ]
  },
  {
   "cell_type": "markdown",
   "id": "a011aa8d-24c8-4f99-bbe6-9e88729ab66b",
   "metadata": {},
   "source": [
    "### 1.1. Convert Numpy array to Torch tensors"
   ]
  },
  {
   "cell_type": "code",
   "execution_count": 20,
   "id": "55617243-5cfb-47e7-b447-f5bb3a1ebe6e",
   "metadata": {},
   "outputs": [],
   "source": [
    "# Convert the images to PyTorch tensors and normalize\n",
    "img_tensor_0 = torch.tensor(digit_0_array_og, dtype=torch.float32) / max_pixel\n",
    "img_tensor_1 = torch.tensor(digit_1_array_og, dtype=torch.float32) / max_pixel"
   ]
  },
  {
   "cell_type": "code",
   "execution_count": 23,
   "id": "7e85ec31-ab93-4478-b192-5cbe96d138e6",
   "metadata": {},
   "outputs": [
    {
     "name": "stdout",
     "output_type": "stream",
     "text": [
      "Shape of Normalised Digit 0 Tensor: torch.Size([28, 28, 3])\n",
      "Normalised Min pixel value: 0.0\n",
      "Normalised Max pixel value : 1.0\n"
     ]
    }
   ],
   "source": [
    "print(\"Shape of Normalised Digit 0 Tensor:\", img_tensor_0.shape)\n",
    "print(f\"Normalised Min pixel value: {torch.min(img_tensor_0)}\")\n",
    "print(f\"Normalised Max pixel value : {torch.max(img_tensor_0)}\")"
   ]
  },
  {
   "cell_type": "code",
   "execution_count": 22,
   "id": "8ca071e7-9219-43a9-a7e8-ecd911fc70a4",
   "metadata": {},
   "outputs": [
    {
     "data": {
      "image/png": "[encoded data removed]",
      "text/plain": [
       "<Figure size 640x480 with 1 Axes>"
      ]
     },
     "metadata": {},
     "output_type": "display_data"
    }
   ],
   "source": [
    "plt.imshow(img_tensor_0, cmap=\"gray\")\n",
    "plt.title(\"Normalized Digit 0 Image\")\n",
    "plt.axis(\"off\")\n",
    "plt.show()"
   ]
  },
  {
   "cell_type": "markdown",
   "id": "05405d14-ee13-4e65-9ea2-bfbbe6544503",
   "metadata": {},
   "source": [
    "### 1.2. Creating Input Batch"
   ]
  },
  {
   "cell_type": "code",
   "execution_count": 47,
   "id": "78ee35bb-6e91-478e-a422-3196a30bc93f",
   "metadata": {},
   "outputs": [],
   "source": [
    "# a = torch.arange(10).reshape(2,5)\n",
    "# a.shape\n",
    "\n",
    "# a\n",
    "\n",
    "# b = torch.arange(10,20).reshape(2,5)\n",
    "# b.shape\n",
    "\n",
    "# b\n",
    "\n",
    "# c = torch.stack((a,b), dim=0)\n",
    "# c.shape\n",
    "\n",
    "# c\n",
    "\n",
    "# c1 = torch.stack((a,b), dim=1)\n",
    "# c1.shape\n",
    "\n",
    "# c1\n",
    "\n",
    "# d = torch.stack((a,b,a))\n",
    "# d.shape\n",
    "\n",
    "# d"
   ]
  },
  {
   "cell_type": "code",
   "execution_count": 48,
   "id": "1a6ebd64-20a3-4cac-8778-bc0c13bfeadc",
   "metadata": {},
   "outputs": [
    {
     "data": {
      "text/plain": [
       "(torch.Size([28, 28, 3]), torch.Size([28, 28, 3]))"
      ]
     },
     "execution_count": 48,
     "metadata": {},
     "output_type": "execute_result"
    }
   ],
   "source": [
    "img_tensor_0.shape, img_tensor_1.shape"
   ]
  },
  {
   "cell_type": "code",
   "execution_count": 51,
   "id": "b9856b04-88fe-4316-9e79-e0078a472231",
   "metadata": {},
   "outputs": [
    {
     "name": "stdout",
     "output_type": "stream",
     "text": [
      "Batch Tensor Shape: torch.Size([2, 28, 28, 3])\n"
     ]
    }
   ],
   "source": [
    "batch_tensor = torch.stack([img_tensor_0,img_tensor_1])\n",
    "# In PyTorch the forward pass of input images to the model is expected to have a batch_size > 1\n",
    "print(\"Batch Tensor Shape:\", batch_tensor.shape)"
   ]
  },
  {
   "cell_type": "markdown",
   "id": "5490bf52-7a1c-4981-9701-2a4712ae39ec",
   "metadata": {},
   "source": [
    "Additionally in PyTorch, image tensors typically follow the shape convention `[N ,C ,H ,W]` unlike tensorflow which follows `[N, H, W, C]`.\n",
    "\n",
    "Therefore, we need to bring the color channel to the second dimension. This can be achieved using either `torch.view()` or `torch.permute()`."
   ]
  },
  {
   "cell_type": "code",
   "execution_count": 52,
   "id": "dd4bb0c4-1038-4844-9268-25479737be35",
   "metadata": {},
   "outputs": [
    {
     "name": "stdout",
     "output_type": "stream",
     "text": [
      "Batch Tensor Shape: torch.Size([2, 3, 28, 28])\n"
     ]
    }
   ],
   "source": [
    "# changing the dimension of batch tensor for pytorch\n",
    "batch_input = batch_tensor.permute(0,3,1,2)\n",
    "print(\"Batch Tensor Shape:\", batch_input.shape)"
   ]
  },
  {
   "cell_type": "markdown",
   "id": "48df5230-c534-4f29-9015-3b2813587c73",
   "metadata": {},
   "source": [
    "# 2. Introduction to Tensors and its Operations\n",
    "We have seen the importance of tensors, now will understand it from ground up. \n",
    "\n",
    "Tensor is simply a fancy name given to matrices. If you are familiar with NumPy arrays, understanding and using PyTorch Tensors will be very easy.\n",
    "\n",
    "A scalar value is represented by a 0-dimensional Tensor. Similarly, a column/row matrix is represented using a 1-D Tensor and so on."
   ]
  },
  {
   "cell_type": "code",
   "execution_count": 53,
   "id": "05396f71-7760-4e8e-82ea-4b28e7aa2226",
   "metadata": {},
   "outputs": [
    {
     "data": {
      "text/plain": [
       "tensor(3)"
      ]
     },
     "execution_count": 53,
     "metadata": {},
     "output_type": "execute_result"
    }
   ],
   "source": [
    "# 0 dimensions\n",
    "A = torch.tensor(3)\n",
    "A"
   ]
  },
  {
   "cell_type": "code",
   "execution_count": 54,
   "id": "73be737c-d463-4bb1-9f2d-7a37b5fa551c",
   "metadata": {},
   "outputs": [
    {
     "data": {
      "text/plain": [
       "tensor([1., 2., 3.])"
      ]
     },
     "execution_count": 54,
     "metadata": {},
     "output_type": "execute_result"
    }
   ],
   "source": [
    "# 1 dimensions\n",
    "B = torch.tensor([1.0,2.0,3.0])\n",
    "B"
   ]
  },
  {
   "cell_type": "code",
   "execution_count": 55,
   "id": "0125bc23-4fce-4a4b-8076-c148e925d12f",
   "metadata": {},
   "outputs": [
    {
     "data": {
      "text/plain": [
       "tensor([[1., 2.],\n",
       "        [3., 4.]])"
      ]
     },
     "execution_count": 55,
     "metadata": {},
     "output_type": "execute_result"
    }
   ],
   "source": [
    "# 2 dimensions\n",
    "C = torch.tensor([[1.0,2.0],[3.0,4.0]])\n",
    "C"
   ]
  },
  {
   "cell_type": "code",
   "execution_count": 56,
   "id": "fea387c3-21bb-4ed9-9095-734c79b6482c",
   "metadata": {},
   "outputs": [
    {
     "data": {
      "text/plain": [
       "tensor([[[1., 2.],\n",
       "         [3., 4.]],\n",
       "\n",
       "        [[5., 6.],\n",
       "         [7., 8.]]])"
      ]
     },
     "execution_count": 56,
     "metadata": {},
     "output_type": "execute_result"
    }
   ],
   "source": [
    "# 3 dimensions\n",
    "D = torch.tensor(\n",
    "    [\n",
    "        [[1.0,2.0],[3.0,4.0]],\n",
    "        [[5.0,6.0],[7.0,8.0]]\n",
    "    ]\n",
    ")\n",
    "D"
   ]
  },
  {
   "cell_type": "markdown",
   "id": "02598ee7-1532-4c4e-a0a7-22d0539e385b",
   "metadata": {},
   "source": [
    "### 2.1. Construct your first Tensor\n",
    "Let’s see how we can create a PyTorch Tensor."
   ]
  },
  {
   "cell_type": "code",
   "execution_count": 57,
   "id": "8069d31a-83a5-459e-bdfe-3f52d4e86f3c",
   "metadata": {},
   "outputs": [
    {
     "name": "stdout",
     "output_type": "stream",
     "text": [
      "tensor([1., 1., 1., 1., 1.])\n",
      "tensor([0., 0., 0., 0., 0.])\n"
     ]
    }
   ],
   "source": [
    "# Create a Tensor with just ones in a column\n",
    "a = torch.ones(5)\n",
    "# Print the tensor we created\n",
    "print(a)\n",
    "\n",
    "# Create a Tensor with just zeros in a column\n",
    "b = torch.zeros(5)\n",
    "print(b)"
   ]
  },
  {
   "cell_type": "markdown",
   "id": "65da819d-a427-4650-b0b4-ad5a69dd3ba4",
   "metadata": {},
   "source": [
    "We can similarly create Tensor with custom values as shown below."
   ]
  },
  {
   "cell_type": "code",
   "execution_count": 58,
   "id": "0b03e27d-3c69-451d-87fc-5391896e9637",
   "metadata": {},
   "outputs": [
    {
     "name": "stdout",
     "output_type": "stream",
     "text": [
      "tensor([1., 2., 3., 4., 5.])\n"
     ]
    }
   ],
   "source": [
    "c = torch.tensor([1.0, 2.0, 3.0, 4.0, 5.0])\n",
    "print(c)"
   ]
  },
  {
   "cell_type": "markdown",
   "id": "916157c2-acd4-4f4d-8726-73332cceef60",
   "metadata": {},
   "source": [
    "In all the above cases, we have created vectors or Tensors of dimension 1. Now, let’s create some tensors of higher dimension."
   ]
  },
  {
   "cell_type": "code",
   "execution_count": 59,
   "id": "b40429d7-cd11-4fac-9737-3962da2ea8e5",
   "metadata": {},
   "outputs": [
    {
     "name": "stdout",
     "output_type": "stream",
     "text": [
      "tensor([[0., 0.],\n",
      "        [0., 0.],\n",
      "        [0., 0.]])\n"
     ]
    }
   ],
   "source": [
    "d = torch.zeros(3,2)\n",
    "print(d)"
   ]
  },
  {
   "cell_type": "code",
   "execution_count": 60,
   "id": "33b94534-ee31-47ce-9e03-94906114da55",
   "metadata": {},
   "outputs": [
    {
     "name": "stdout",
     "output_type": "stream",
     "text": [
      "tensor([[1., 1.],\n",
      "        [1., 1.],\n",
      "        [1., 1.]])\n"
     ]
    }
   ],
   "source": [
    "e = torch.ones(3,2)\n",
    "print(e)"
   ]
  },
  {
   "cell_type": "code",
   "execution_count": 61,
   "id": "f52790f1-1f58-46d6-bad7-1c56321ef961",
   "metadata": {},
   "outputs": [
    {
     "name": "stdout",
     "output_type": "stream",
     "text": [
      "tensor([[1., 2.],\n",
      "        [3., 4.]])\n"
     ]
    }
   ],
   "source": [
    "f = torch.tensor([[1.0, 2.0],[3.0, 4.0]])\n",
    "print(f)"
   ]
  },
  {
   "cell_type": "code",
   "execution_count": 62,
   "id": "301d2821-5e74-4523-8c51-4f9421b5205f",
   "metadata": {},
   "outputs": [
    {
     "name": "stdout",
     "output_type": "stream",
     "text": [
      "tensor([[[1., 2.],\n",
      "         [3., 4.]],\n",
      "\n",
      "        [[5., 6.],\n",
      "         [7., 8.]]])\n"
     ]
    }
   ],
   "source": [
    "# 3D Tensor\n",
    "g = torch.tensor([[[1., 2.], [3., 4.]], [[5., 6.], [7., 8.]]])\n",
    "print(g)"
   ]
  },
  {
   "cell_type": "markdown",
   "id": "163f9a5d-96ff-4444-bfbf-b150739e5711",
   "metadata": {},
   "source": [
    "### 2.2. Access an element in Tensor\n",
    "Now that we have created some tensors, let’s see how we can access an element in a Tensor. First let’s see how to do this for 1D Tensor aka vector."
   ]
  },
  {
   "cell_type": "code",
   "execution_count": 63,
   "id": "52fd20c7-1fa3-44c8-9313-4bac8e1c881b",
   "metadata": {},
   "outputs": [
    {
     "data": {
      "text/plain": [
       "tensor([1., 2., 3., 4., 5.])"
      ]
     },
     "execution_count": 63,
     "metadata": {},
     "output_type": "execute_result"
    }
   ],
   "source": [
    "c"
   ]
  },
  {
   "cell_type": "code",
   "execution_count": 64,
   "id": "bc376da6-d230-40c1-9858-9ab297038856",
   "metadata": {},
   "outputs": [
    {
     "name": "stdout",
     "output_type": "stream",
     "text": [
      "tensor(3.)\n"
     ]
    }
   ],
   "source": [
    "# Get element at index 2\n",
    "print(c[2])"
   ]
  },
  {
   "cell_type": "markdown",
   "id": "bc5d9033-9aaf-43e0-9bf2-86181f0b4841",
   "metadata": {},
   "source": [
    "What about 2D or 3D Tensor? Recall what we mentioned about dimension of a tensor.\n",
    "\n",
    "To access one particular element in a tensor, we will need to specify indices equal to the dimension of the tensor. That’s why for tensor c we only had to specify one index."
   ]
  },
  {
   "cell_type": "code",
   "execution_count": 65,
   "id": "c112e32f-8fda-4728-93dd-bcc6a7677189",
   "metadata": {},
   "outputs": [
    {
     "data": {
      "text/plain": [
       "tensor([[1., 2.],\n",
       "        [3., 4.]])"
      ]
     },
     "execution_count": 65,
     "metadata": {},
     "output_type": "execute_result"
    }
   ],
   "source": [
    "f"
   ]
  },
  {
   "cell_type": "code",
   "execution_count": 66,
   "id": "7ab7e0e9-d5f2-4516-b1af-71cf61cc8333",
   "metadata": {},
   "outputs": [
    {
     "name": "stdout",
     "output_type": "stream",
     "text": [
      "tensor(3.)\n"
     ]
    }
   ],
   "source": [
    "# All indices starting from 0\n",
    "\n",
    "# Get element at row 1, column 0\n",
    "print(f[1,0])"
   ]
  },
  {
   "cell_type": "code",
   "execution_count": 67,
   "id": "2acecdd5-9a81-41e6-838e-9534d5274f15",
   "metadata": {},
   "outputs": [
    {
     "name": "stdout",
     "output_type": "stream",
     "text": [
      "tensor(3.)\n"
     ]
    }
   ],
   "source": [
    "# We can also use the following\n",
    "print(f[1][0])"
   ]
  },
  {
   "cell_type": "code",
   "execution_count": 68,
   "id": "35474601-5732-41a6-8499-614c85db6db8",
   "metadata": {},
   "outputs": [
    {
     "data": {
      "text/plain": [
       "tensor([[[1., 2.],\n",
       "         [3., 4.]],\n",
       "\n",
       "        [[5., 6.],\n",
       "         [7., 8.]]])"
      ]
     },
     "execution_count": 68,
     "metadata": {},
     "output_type": "execute_result"
    }
   ],
   "source": [
    "g"
   ]
  },
  {
   "cell_type": "code",
   "execution_count": 69,
   "id": "fbd2758c-9f48-4c42-9cb1-7d4b6ce9dad7",
   "metadata": {},
   "outputs": [
    {
     "name": "stdout",
     "output_type": "stream",
     "text": [
      "tensor(5.)\n",
      "tensor(5.)\n"
     ]
    }
   ],
   "source": [
    "# Similarly for 3D Tensor\n",
    "print(g[1,0,0])\n",
    "print(g[1][0][0])"
   ]
  },
  {
   "cell_type": "markdown",
   "id": "157e311c-bcc2-46b6-bf53-4e600f98eca1",
   "metadata": {},
   "source": [
    "But what if you wanted to access one entire row in a 2D Tensor?"
   ]
  },
  {
   "cell_type": "code",
   "execution_count": 70,
   "id": "d8b94357-9fbd-454f-9752-a2642e01251d",
   "metadata": {},
   "outputs": [
    {
     "data": {
      "text/plain": [
       "tensor([[1., 2.],\n",
       "        [3., 4.]])"
      ]
     },
     "execution_count": 70,
     "metadata": {},
     "output_type": "execute_result"
    }
   ],
   "source": [
    "f"
   ]
  },
  {
   "cell_type": "code",
   "execution_count": 71,
   "id": "4fbdc48c-e294-4fa6-a4ff-b7064785ce86",
   "metadata": {},
   "outputs": [
    {
     "name": "stdout",
     "output_type": "stream",
     "text": [
      "tensor([[1., 2.],\n",
      "        [3., 4.]])\n"
     ]
    }
   ],
   "source": [
    "# All elements\n",
    "print(f[:])"
   ]
  },
  {
   "cell_type": "code",
   "execution_count": 72,
   "id": "8759c636-84e1-4922-9f65-c5fbfd170ab4",
   "metadata": {},
   "outputs": [
    {
     "data": {
      "text/plain": [
       "tensor([1., 2., 3., 4., 5.])"
      ]
     },
     "execution_count": 72,
     "metadata": {},
     "output_type": "execute_result"
    }
   ],
   "source": [
    "c"
   ]
  },
  {
   "cell_type": "code",
   "execution_count": 73,
   "id": "24512029-8952-42ca-b42c-7c10f600c6d6",
   "metadata": {},
   "outputs": [
    {
     "name": "stdout",
     "output_type": "stream",
     "text": [
      "tensor([2., 3.])\n"
     ]
    }
   ],
   "source": [
    "# All elements from index 1 to 2 (excluding element 3)\n",
    "print(c[1:3])"
   ]
  },
  {
   "cell_type": "code",
   "execution_count": 74,
   "id": "adc44e50-bdf9-4c5c-8ff8-608c899d7197",
   "metadata": {},
   "outputs": [
    {
     "name": "stdout",
     "output_type": "stream",
     "text": [
      "tensor([1., 2., 3., 4.])\n"
     ]
    }
   ],
   "source": [
    "# All elements till index 4 (exclusive)\n",
    "print(c[:4])"
   ]
  },
  {
   "cell_type": "code",
   "execution_count": 75,
   "id": "9ec04def-5ce8-4118-bc2c-69ea54fb02c7",
   "metadata": {},
   "outputs": [
    {
     "data": {
      "text/plain": [
       "tensor([[1., 2.],\n",
       "        [3., 4.]])"
      ]
     },
     "execution_count": 75,
     "metadata": {},
     "output_type": "execute_result"
    }
   ],
   "source": [
    "f"
   ]
  },
  {
   "cell_type": "code",
   "execution_count": 76,
   "id": "2e18e14b-a9e3-49e2-b6ab-ee7a41e7c8f8",
   "metadata": {},
   "outputs": [
    {
     "name": "stdout",
     "output_type": "stream",
     "text": [
      "tensor([1., 2.])\n"
     ]
    }
   ],
   "source": [
    "# First row\n",
    "print(f[0, :])"
   ]
  },
  {
   "cell_type": "code",
   "execution_count": 77,
   "id": "818854e6-f5e8-49c3-aa7d-138ff052adb1",
   "metadata": {},
   "outputs": [
    {
     "name": "stdout",
     "output_type": "stream",
     "text": [
      "tensor([2., 4.])\n"
     ]
    }
   ],
   "source": [
    "# Second column\n",
    "print(f[:,1])"
   ]
  },
  {
   "cell_type": "markdown",
   "id": "6fd6eedc-1a93-42f1-9d66-1c53be3a01c5",
   "metadata": {},
   "source": [
    "### 2.3. Specify data type of elements\n",
    "Whenever we create a tensor, PyTorch decides the data type of the elements of the tensor such that the data type can cover all the elements of the tensor. We can override this by specifying the data type while creating the tensor."
   ]
  },
  {
   "cell_type": "code",
   "execution_count": 78,
   "id": "7f9489a8-8345-4978-8ece-dc62725600c5",
   "metadata": {},
   "outputs": [
    {
     "name": "stdout",
     "output_type": "stream",
     "text": [
      "torch.int64\n"
     ]
    }
   ],
   "source": [
    "int_tensor = torch.tensor([[1,2,3],[4,5,6]])\n",
    "print(int_tensor.dtype)"
   ]
  },
  {
   "cell_type": "code",
   "execution_count": 79,
   "id": "a5f169f9-209d-4ed5-b5f6-1d4ca65cb9c4",
   "metadata": {},
   "outputs": [
    {
     "name": "stdout",
     "output_type": "stream",
     "text": [
      "torch.float32\n",
      "tensor([[1., 2., 3.],\n",
      "        [4., 5., 6.]])\n"
     ]
    }
   ],
   "source": [
    "# What if we changed any one element to floating point number?\n",
    "int_tensor = torch.tensor([[1,2,3],[4.,5,6]])\n",
    "print(int_tensor.dtype)\n",
    "print(int_tensor)"
   ]
  },
  {
   "cell_type": "code",
   "execution_count": 80,
   "id": "cce6d872-21c5-442d-af55-ad61c6ab049d",
   "metadata": {},
   "outputs": [
    {
     "name": "stdout",
     "output_type": "stream",
     "text": [
      "torch.int64\n",
      "tensor([[1, 2, 3],\n",
      "        [4, 5, 6]])\n"
     ]
    }
   ],
   "source": [
    "# This can be overridden as follows\n",
    "float_tensor = torch.tensor([[1, 2, 3],[4., 5, 6]])\n",
    "int_tensor = float_tensor.type(torch.int64)\n",
    "print(int_tensor.dtype)\n",
    "print(int_tensor)"
   ]
  },
  {
   "cell_type": "markdown",
   "id": "361ebc2f-3504-4c09-bf8d-39dfd65f2cba",
   "metadata": {},
   "source": [
    "### 2.4. Tensor to/from NumPy Array\n",
    "We have mentioned several times that PyTorch Tensors and NumPy arrays are pretty similar. This of course demands the question if it’s possible to convert one data structure into another. Let’s see how we can do this."
   ]
  },
  {
   "cell_type": "code",
   "execution_count": 81,
   "id": "fdcf2858-c662-4110-b215-5ff04fd89315",
   "metadata": {},
   "outputs": [
    {
     "data": {
      "text/plain": [
       "tensor([[1., 2.],\n",
       "        [3., 4.]])"
      ]
     },
     "execution_count": 81,
     "metadata": {},
     "output_type": "execute_result"
    }
   ],
   "source": [
    "f"
   ]
  },
  {
   "cell_type": "code",
   "execution_count": 82,
   "id": "0651272a-979c-472b-8304-10abca486a26",
   "metadata": {},
   "outputs": [
    {
     "name": "stdout",
     "output_type": "stream",
     "text": [
      "[[1. 2.]\n",
      " [3. 4.]]\n"
     ]
    }
   ],
   "source": [
    "# Tensor to Array\n",
    "f_numpy = f.numpy()\n",
    "print(f_numpy)"
   ]
  },
  {
   "cell_type": "code",
   "execution_count": 83,
   "id": "c6ad06a3-273a-46af-87a4-8baaca0c88b8",
   "metadata": {},
   "outputs": [
    {
     "name": "stdout",
     "output_type": "stream",
     "text": [
      "tensor([[8, 7, 6, 5],\n",
      "        [4, 3, 2, 1]])\n"
     ]
    }
   ],
   "source": [
    "# Array to Tensor\n",
    "h = np.array([[8,7,6,5],[4,3,2,1]])\n",
    "h_tensor = torch.from_numpy(h)\n",
    "print(h_tensor)"
   ]
  },
  {
   "cell_type": "markdown",
   "id": "a77d7792-57fe-4f8b-a4f2-3039028b69ee",
   "metadata": {},
   "source": [
    "### 2.5. Arithmetic Operations on Tensors\n",
    "Now it’s time for the next step. Let’s see how we can perform arithmetic operations on PyTorch tensors."
   ]
  },
  {
   "cell_type": "code",
   "execution_count": 84,
   "id": "1d1deab2-a26d-4da1-8dea-8a3e309aa374",
   "metadata": {},
   "outputs": [],
   "source": [
    "# Create tensor\n",
    "tensor1 = torch.tensor([[1,2,3],[4,5,6]])\n",
    "tensor2 = torch.tensor([[-1,2,-3],[4,-5,6]])"
   ]
  },
  {
   "cell_type": "code",
   "execution_count": 85,
   "id": "1ee2a821-e03e-4e5d-9457-5c956e329279",
   "metadata": {},
   "outputs": [
    {
     "data": {
      "text/plain": [
       "tensor([[1, 2, 3],\n",
       "        [4, 5, 6]])"
      ]
     },
     "execution_count": 85,
     "metadata": {},
     "output_type": "execute_result"
    }
   ],
   "source": [
    "tensor1"
   ]
  },
  {
   "cell_type": "code",
   "execution_count": 86,
   "id": "760816af-d3d6-4d63-a5e7-c069553d6e12",
   "metadata": {},
   "outputs": [
    {
     "data": {
      "text/plain": [
       "tensor([[-1,  2, -3],\n",
       "        [ 4, -5,  6]])"
      ]
     },
     "execution_count": 86,
     "metadata": {},
     "output_type": "execute_result"
    }
   ],
   "source": [
    "tensor2"
   ]
  },
  {
   "cell_type": "code",
   "execution_count": 87,
   "id": "92b03239-cd3e-4834-9c1c-42cea59be614",
   "metadata": {},
   "outputs": [
    {
     "name": "stdout",
     "output_type": "stream",
     "text": [
      "tensor([[ 0,  4,  0],\n",
      "        [ 8,  0, 12]])\n",
      "tensor([[ 0,  4,  0],\n",
      "        [ 8,  0, 12]])\n"
     ]
    }
   ],
   "source": [
    "# Addition\n",
    "print(tensor1+tensor2)\n",
    "# We can also use\n",
    "print(torch.add(tensor1,tensor2))"
   ]
  },
  {
   "cell_type": "code",
   "execution_count": 88,
   "id": "28aafcac-a667-4bcb-b7ae-d3ad815391c7",
   "metadata": {},
   "outputs": [
    {
     "name": "stdout",
     "output_type": "stream",
     "text": [
      "tensor([[ 2,  0,  6],\n",
      "        [ 0, 10,  0]])\n",
      "tensor([[ 2,  0,  6],\n",
      "        [ 0, 10,  0]])\n"
     ]
    }
   ],
   "source": [
    "# Subtraction\n",
    "print(tensor1-tensor2)\n",
    "# We can also use\n",
    "print(torch.sub(tensor1,tensor2))"
   ]
  },
  {
   "cell_type": "code",
   "execution_count": 89,
   "id": "84039937-1ade-405a-be9e-675fd869679b",
   "metadata": {},
   "outputs": [
    {
     "name": "stdout",
     "output_type": "stream",
     "text": [
      "tensor([[ 2,  4,  6],\n",
      "        [ 8, 10, 12]])\n"
     ]
    }
   ],
   "source": [
    "# Multiplication\n",
    "# Tensor with Scalar\n",
    "print(tensor1 * 2)"
   ]
  },
  {
   "cell_type": "code",
   "execution_count": 90,
   "id": "9798bc9a-cf06-4116-8e79-d7b8b1ddc01c",
   "metadata": {},
   "outputs": [
    {
     "name": "stdout",
     "output_type": "stream",
     "text": [
      "tensor([[ -1,   4,  -9],\n",
      "        [ 16, -25,  36]])\n"
     ]
    }
   ],
   "source": [
    "# Tensor with another tensor\n",
    "# Elementwise Multiplication\n",
    "print(tensor1 * tensor2)"
   ]
  },
  {
   "cell_type": "code",
   "execution_count": 91,
   "id": "1d18fc6c-6def-4e3e-b2c3-7535c0d4fa50",
   "metadata": {},
   "outputs": [
    {
     "name": "stdout",
     "output_type": "stream",
     "text": [
      "tensor([[22, 28],\n",
      "        [49, 64]])\n"
     ]
    }
   ],
   "source": [
    "# Matrix multiplication\n",
    "tensor3 = torch.tensor([[1,2],[3,4],[5,6]])\n",
    "print(torch.mm(tensor1,tensor3))"
   ]
  },
  {
   "cell_type": "code",
   "execution_count": 92,
   "id": "195475dc-e44d-4145-9253-fb501ac8c459",
   "metadata": {},
   "outputs": [
    {
     "name": "stdout",
     "output_type": "stream",
     "text": [
      "tensor([[0.5000, 1.0000, 1.5000],\n",
      "        [2.0000, 2.5000, 3.0000]])\n"
     ]
    }
   ],
   "source": [
    "# Division\n",
    "# Tensor with scalar\n",
    "print(tensor1/2)"
   ]
  },
  {
   "cell_type": "code",
   "execution_count": 93,
   "id": "cd213ecf-1e91-4174-a080-58adbeb736ad",
   "metadata": {},
   "outputs": [
    {
     "name": "stdout",
     "output_type": "stream",
     "text": [
      "tensor([[-1.,  1., -1.],\n",
      "        [ 1., -1.,  1.]])\n"
     ]
    }
   ],
   "source": [
    "# Tensor with another tensor\n",
    "# Elementwise division\n",
    "print(tensor1/tensor2)"
   ]
  },
  {
   "cell_type": "markdown",
   "id": "a3ae0f7d-2ac1-43c3-a81a-7e1e3cc8df11",
   "metadata": {},
   "source": [
    "### 2.6. Broadcasting\n",
    "- a is a 1-dimensional tensor with shape ([ 3 ]).\n",
    "- b is a scalar tensor with shape ([ 1 ]).\n",
    "- When adding a and b, PyTorch broadcasts b to match the shape of a, resulting in ([ 1 + 4, 2 + 4, 3 + 4 ])."
   ]
  },
  {
   "cell_type": "code",
   "execution_count": 94,
   "id": "9088cdc0-bb83-4f9a-9b32-8fa3396cba3e",
   "metadata": {},
   "outputs": [
    {
     "name": "stdout",
     "output_type": "stream",
     "text": [
      "Result of Broadcasting:\n",
      " tensor([5, 6, 7])\n"
     ]
    }
   ],
   "source": [
    "# Create two 1-dimensional tensors\n",
    "a = torch.tensor([1, 2, 3])\n",
    "b = torch.tensor([4])\n",
    "\n",
    "# adding a scalar to a vector\n",
    "result = a + b\n",
    "\n",
    "print(\"Result of Broadcasting:\\n\",result)"
   ]
  },
  {
   "cell_type": "markdown",
   "id": "38128285-79a8-48e4-a9b2-e1fd83605578",
   "metadata": {},
   "source": [
    "- a is a 2-dimensional tensor with shape ([1, 3]).\n",
    "\n",
    "- b is a 2-dimensional tensor with shape ([3, 1]).\n",
    "\n",
    "- When adding a and b, PyTorch broadcasts both tensors to the common shape ([3, 3]), resulting in:"
   ]
  },
  {
   "cell_type": "code",
   "execution_count": 95,
   "id": "812933d6-71ca-4e86-90b4-50b6a7f0e539",
   "metadata": {},
   "outputs": [
    {
     "name": "stdout",
     "output_type": "stream",
     "text": [
      "Shape:  torch.Size([3, 3])\n",
      "\n",
      "\n",
      "Result of Broadcasting:\n",
      " tensor([[5, 6, 7],\n",
      "        [6, 7, 8],\n",
      "        [7, 8, 9]])\n"
     ]
    }
   ],
   "source": [
    "# Create two tensors with shapes (1, 3) and (3, 1)\n",
    "a = torch.tensor([[1, 2, 3]])\n",
    "b = torch.tensor([[4], [5], [6]])\n",
    "\n",
    "# adding tensors of different shapes\n",
    "result = a + b\n",
    "print(\"Shape: \", result.shape)\n",
    "print(\"\\n\")\n",
    "print(\"Result of Broadcasting:\\n\", result)"
   ]
  },
  {
   "cell_type": "markdown",
   "id": "fd2f612d-6191-4527-bca2-c6066d8827df",
   "metadata": {},
   "source": [
    "### 2.7. CPU v/s GPU Tensor\n",
    "Let’s first see how to create a tensor for GPU."
   ]
  },
  {
   "cell_type": "code",
   "execution_count": 96,
   "id": "985cf04e-395f-4c00-bb49-396a3117a8fa",
   "metadata": {},
   "outputs": [],
   "source": [
    "# Create a tensor for CPU\n",
    "# This will occupy CPU RAM\n",
    "tensor_cpu = torch.tensor([[1.0, 2.0], [3.0, 4.0], [5.0, 6.0]], device='cpu')\n",
    "\n",
    "# Create a tensor for GPU\n",
    "# This will occupy GPU RAM\n",
    "tensor_gpu = torch.tensor([[1.0, 2.0], [3.0, 4.0], [5.0, 6.0]], device='mps')"
   ]
  },
  {
   "cell_type": "markdown",
   "id": "f8f1c338-f0f4-4674-86c6-4405378697fc",
   "metadata": {},
   "source": [
    "Just like tensor creation, the operations performed for CPU and GPU tensors are also different and consume RAM corresponding to the device specified."
   ]
  },
  {
   "cell_type": "code",
   "execution_count": 97,
   "id": "b71e6398-f391-454f-877e-e71a790723fc",
   "metadata": {},
   "outputs": [],
   "source": [
    "# This uses CPU RAM\n",
    "tensor_cpu = tensor_cpu * 5\n",
    "\n",
    "# This uses GPU RAM\n",
    "# Focus on GPU RAM Consumption\n",
    "tensor_gpu = tensor_gpu * 5"
   ]
  },
  {
   "cell_type": "markdown",
   "id": "d82ba394-ea84-48fe-8dc1-7ef85fd14082",
   "metadata": {},
   "source": [
    "We can move the GPU tensor to CPU and vice versa as shown below."
   ]
  },
  {
   "cell_type": "code",
   "execution_count": 99,
   "id": "ddb1e340-e8f5-4b9d-b8d9-1880663c7fed",
   "metadata": {},
   "outputs": [],
   "source": [
    "# Move GPU tensor to CPU\n",
    "tensor_gpu_cpu = tensor_gpu.to(device='cpu')\n",
    "\n",
    "# Move CPU tensor to GPU\n",
    "tensor_cpu_gpu = tensor_cpu.to(device='mps')"
   ]
  },
  {
   "cell_type": "code",
   "execution_count": null,
   "id": "87a96b72-4b9d-4741-a40d-bc31396eee35",
   "metadata": {},
   "outputs": [],
   "source": []
  }
 ],
 "metadata": {
  "kernelspec": {
   "display_name": "Python 3 (ipykernel)",
   "language": "python",
   "name": "python3"
  },
  "language_info": {
   "codemirror_mode": {
    "name": "ipython",
    "version": 3
   },
   "file_extension": ".py",
   "mimetype": "text/x-python",
   "name": "python",
   "nbconvert_exporter": "python",
   "pygments_lexer": "ipython3",
   "version": "3.12.9"
  }
 },
 "nbformat": 4,
 "nbformat_minor": 5
}
